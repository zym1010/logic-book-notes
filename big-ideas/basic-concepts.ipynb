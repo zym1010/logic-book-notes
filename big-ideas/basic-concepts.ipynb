{
 "cells": [
  {
   "cell_type": "markdown",
   "metadata": {},
   "source": [
    "# strength of logic vs. duduction system (style).\n",
    "\n",
    "check <https://math.stackexchange.com/a/927961/139627>.\n",
    "\n",
    "## strength of logic\n",
    "\n",
    "> There is a question about different strengths of logics which count different inferences to be valid (e.g. intuitionistic, classical, relevance, ...).\n",
    "\n",
    "Strength is about what inference techniques are valid. I think by default, people talk about [classical (first order) predicate logic](https://en.wikipedia.org/wiki/First-order_logic), or classical first order logic (FOL) in [Teach Yourself Logic 2017: A Study Guide](http://www.logicmatters.net/resources/pdfs/TeachYourselfLogic2017.pdf). Other types of logic that are of interest for CS is primarily intuitionistic (constructive) logic. See <http://www.cs.cmu.edu/~fp/courses/15317-f17/index.html>, <https://math.meta.stackexchange.com/questions/12450/intuitionistic-logic-or-classical-logic>, <https://cstheory.stackexchange.com/questions/17702/when-does-or-should-theoretical-cs-care-about-intuitionistic-proofs>\n",
    "\n",
    "\n",
    "We named the standard logic as \"classical first order logic\", because\n",
    "\n",
    "1. \"classical\" for its compatibility of classical version of [Propositional logic](https://en.wikipedia.org/wiki/Propositional_calculus).\n",
    "2. \"first order\" talks about the domain variables can vary over, as opposed to [second-order logic](https://en.wikipedia.org/wiki/Second-order_logic).\n",
    "\n",
    "## duduction system (style).\n",
    "\n",
    "> There is the quite independent issue that arises, having fixed on a particular strength of logic, about different deductive styles for presenting it. For example, there is a choice of Hilbert systems, natural deduction of various kinds, tableaux or tree systems, etc.\n",
    "\n",
    "\n",
    "Some popular ones are Hilbert systems, one version of which is used in [Mathematical Logic and Model Theory](https://doi.org/10.1007/978-1-4471-2176-3), and natural deduction, which are used in <http://www.cs.cmu.edu/~fp/courses/15317-f17/index.html>, [Mathematical Logic (by Ian Chiswell and Wilfrid Hodges)](https://global.oup.com/academic/product/mathematical-logic-9780199215621).\n",
    "\n",
    "Also see <https://en.wikipedia.org/wiki/First-order_logic#Deductive_systems>.\n",
    "\n",
    "These systems are overall equivalent.\n",
    "\n",
    "> you can present classical logic in different deductive styles, but you'll end up each time with the same theorems, and the same inferences being deemed valid (**that's what makes them all variant styles of classical logic**, of course!). Similarly for intuitionistic logic and other strength logics.\n",
    "\n",
    "for example, in [Mathematical Logic and Model Theory](https://doi.org/10.1007/978-1-4471-2176-3), the principle of proof by contradiction ([Reductio ad absurdum](https://en.wikipedia.org/wiki/Reductio_ad_absurdum)) is not explicitly shown. Actually, it can be proved. See [here](https://math.stackexchange.com/a/1765216/139627)."
   ]
  },
  {
   "cell_type": "markdown",
   "metadata": {},
   "source": [
    "# Gödel's completeness theorem\n",
    "\n",
    "1. While I've only read its proof in [Mathematical Logic and Model Theory](https://doi.org/10.1007/978-1-4471-2176-3), for a Hilbert style system, there are other flavors, as indicated in [Teach Yourself Logic 2017: A Study Guide](http://www.logicmatters.net/resources/pdfs/TeachYourselfLogic2017.pdf) (2.2 Mapping the field):\n",
    "      > getting at least as far as a soundness and completeness proof for your favourite proof system\n",
    "      \n",
    "   also, check comment to [What is really a \"complete\" deductive system for first-order theories](https://math.stackexchange.com/a/929682/139627):\n",
    "      > There are lots of proof system : Natural Deduction, Tableau, Sequent Calculus and many different version of Hilbert-style (axioms + rules of inference); we agrre to use them only because we are able to prove a (specific) Soundness and Completeness Theorme for each of them\n",
    "2. this theorem has many versions and can work under many assumptions. See [Is the completeness theorem for first-order logic relative to one's choice of set theory?](https://math.stackexchange.com/a/287336/139627) and [wiki](https://en.wikipedia.org/wiki/G%C3%B6del%27s_completeness_theorem). Not sure what assumptions are taken in the [Mathematical Logic and Model Theory](https://doi.org/10.1007/978-1-4471-2176-3) book.\n",
    "3. I think the spirit of the completeness theorem should work for different first-order logic of different strengths---not only classical first order logic. See [Completeness theorem for intuitionistic logic](https://math.stackexchange.com/a/851286/139627)."
   ]
  },
  {
   "cell_type": "markdown",
   "metadata": {},
   "source": [
    "# Gödel's incompleteness theorems\n",
    "\n",
    "## completeness of real numbers?\n",
    "\n",
    "why real numbers theories are said to be complete, yet natural number theories are not complete, given real numbers include natural numbers? See [Gödel's incompleteness theorem and real closed fields](https://math.stackexchange.com/questions/48927/g%C3%B6dels-incompleteness-theorem-and-real-closed-fields). Actually, that so-called complete theory for real numbers (real-closed fields) cannot define concept of natural number.\n",
    "\n",
    "> The reason that the result does not contradict the Incompleteness Theorem is that the natural numbers are not definable over the theory of real-closed fields. Roughly speaking, this means that there is no formula $F(x)$ of our language such that $F(a)$ is true in the reals if and only if $a$ is a natural number."
   ]
  }
 ],
 "metadata": {
  "kernelspec": {
   "display_name": "Python 3",
   "language": "python",
   "name": "python3"
  },
  "language_info": {
   "codemirror_mode": {
    "name": "ipython",
    "version": 3
   },
   "file_extension": ".py",
   "mimetype": "text/x-python",
   "name": "python",
   "nbconvert_exporter": "python",
   "pygments_lexer": "ipython3",
   "version": "3.6.4"
  }
 },
 "nbformat": 4,
 "nbformat_minor": 2
}
