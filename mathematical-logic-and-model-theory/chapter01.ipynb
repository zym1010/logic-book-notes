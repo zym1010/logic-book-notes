{
 "cells": [
  {
   "cell_type": "markdown",
   "metadata": {},
   "source": [
    "this chapter gives a very good summary of first order logic. Given it's very long and it's interleaved with details and big pictures, I'd like to extract out a big picture out of these pages, for future reference.\n",
    "\n",
    "## big picture of first order logic language.\n",
    "\n",
    "First, Section 1.2 defines a formal language that is only defined syntactically.\n",
    "\n",
    "Then Section 1.3 gives some synatical rules for doing deduction using this language.\n",
    "\n",
    "Therefore, the above two sections define a formal language and how to perform deductions using it. However, we haven't established any connection between play of characters as defined in these two Sections and  a mathematical proof that is meaningful to humans.\n",
    "\n",
    "In this book's terminology, we need to establish connection between axiom systems defined by formal languages and models (also called domains or mathematical structures).\n",
    "\n",
    "Sections 1.4 and 1.5 should be considered together. Section 1.4 is full of details, and the main conclusion is given in Section 1.5. In Section 1.5, first the authors define what a model is. The essential key ideas are approximately as follows.\n",
    "\n",
    "* For an axiom system with language $L$, we can define various structures which assigns **unambiguously** a truth value (T/F) to every formula in the language $L$. In addition, this axiom system comes with axioms $\\Sigma$, which are formulas in $L$. Those structures that assign formulas in $\\Sigma$ to be true are called **models** of this axiom system.\n",
    "    * here I gloss over detaila such as formula vs. sentence, etc.\n",
    "\n",
    "\n",
    "Then two theorems are given (Thm  1.5.2 and Thm 1.5.4) relating an axiom system and models.\n",
    "\n",
    "* Thm 1.5.2 (Gödel's Completeness theorem): If an axiom system cannot derive a certain sentence $\\varphi$, then there must exist models where negation of $\\varphi$ is true. In other words, If all models of an axiom system has $\\varphi$ as true (has negation of $\\varphi$ as false), then it must be provable.\n",
    "* Thm 1.5.4 (soundness theorem): If some $\\varphi$ is provable, then all models of this axiom system has $\\varphi$ as true (has negation of $\\varphi$ as false).\n",
    "\n",
    "## other big picture level notes\n",
    "\n",
    "(NOT QUITE SURE)\n",
    "\n",
    "pp. 9\n",
    "\n",
    "> The metalanguage will always be the mathematical colloquial language, in which, for example, we occasionally use common abbreviations (such as “iff” for “if and only if”). In the metalanguage, we shall also use the set theoretical conceptual apparatus, as is usual in mathematics.\n",
    "\n",
    "I think one reason we can use set theory (plus some usual, colloquial math) to reason about object (formal) language is that we can derive set theory from it, as shown in Section 1.6. Since set theory can be formalized by formal language, the usual math can be formalized as well. Conceptually, this show that we can use formal language to prove itself. At least, it's kind of self-consistent. This is probably the best we can do, if we do not assume absolute truth of anything.\n",
    "\n",
    "Maybe, in Section 1.6, they prove that set theory can be formulated in a formal language, and this proof is all done using \"finitary reasoning\", that is clear and convincing. So at least we can show that, (assuming the formal language for set theory is consistent), that the formal language itself can be used to prove certain facts about formal language. This is probably the best thing we can do, as Gödel says consistency cannot be proved in itself (its second incompleteness theorem)."
   ]
  }
 ],
 "metadata": {
  "kernelspec": {
   "display_name": "Python 3",
   "language": "python",
   "name": "python3"
  },
  "language_info": {
   "codemirror_mode": {
    "name": "ipython",
    "version": 3
   },
   "file_extension": ".py",
   "mimetype": "text/x-python",
   "name": "python",
   "nbconvert_exporter": "python",
   "pygments_lexer": "ipython3",
   "version": "3.6.2"
  }
 },
 "nbformat": 4,
 "nbformat_minor": 2
}
