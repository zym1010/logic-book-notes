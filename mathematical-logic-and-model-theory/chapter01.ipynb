{
 "cells": [
  {
   "cell_type": "markdown",
   "metadata": {},
   "source": [
    "this chapter gives a very good summary of first order logic. Given it's very long and it's interleaved with details and big pictures, I'd like to extract out a big picture out of these pages, for future reference.\n",
    "\n",
    "## big picture of first order logic language.\n",
    "\n",
    "First, Section 1.2 defines a formal language that is only defined syntactically.\n",
    "\n",
    "Then Section 1.3 gives some synatical rules for doing deduction using this language.\n",
    "\n",
    "Therefore, the above two sections define a formal language and how to perform deductions using it. However, we haven't established any connection between play of characters as defined in these two Sections and  a mathematical proof that is meaningful to humans.\n",
    "\n",
    "In this book's terminology, we need to establish connection between axiom systems defined by formal languages and models (also called domains or mathematical structures).\n",
    "\n",
    "Sections 1.4 and 1.5 should be considered together. Section 1.4 is full of details, and the main conclusion is given in Section 1.5. In Section 1.5, first the authors define what a model is. The essential key ideas are approximately as follows.\n",
    "\n",
    "* For an axiom system with language $L$, we can define various structures which assigns **unambiguously** a truth value (T/F) to every formula in the language $L$. In addition, this axiom system comes with axioms $\\Sigma$, which are formulas in $L$. Those structures that assign formulas in $\\Sigma$ to be true are called **models** of this axiom system.\n",
    "    * here I gloss over detaila such as formula vs. sentence, etc.\n",
    "\n",
    "\n",
    "Then two theorems are given (Thm  1.5.2 and Thm 1.5.4) relating an axiom system and models.\n",
    "\n",
    "* Thm 1.5.2 (Gödel's Completeness theorem): If an axiom system cannot derive a certain sentence $\\varphi$, then there must exist models where negation of $\\varphi$ is true. In other words, If all models of an axiom system has $\\varphi$ as true (has negation of $\\varphi$ as false), then it must be provable.\n",
    "* Thm 1.5.4 (soundness theorem): If some $\\varphi$ is provable, then all models of this axiom system has $\\varphi$ as true (has negation of $\\varphi$ as false)."
   ]
  }
 ],
 "metadata": {
  "kernelspec": {
   "display_name": "Python 3",
   "language": "python",
   "name": "python3"
  },
  "language_info": {
   "codemirror_mode": {
    "name": "ipython",
    "version": 3
   },
   "file_extension": ".py",
   "mimetype": "text/x-python",
   "name": "python",
   "nbconvert_exporter": "python",
   "pygments_lexer": "ipython3",
   "version": "3.6.2"
  }
 },
 "nbformat": 4,
 "nbformat_minor": 2
}
