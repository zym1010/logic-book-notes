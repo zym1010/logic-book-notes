{
 "cells": [
  {
   "cell_type": "markdown",
   "metadata": {},
   "source": [
    "# 12.1 The formal Induction Schema\n",
    "\n",
    "## pp. 84 use universal quantifier for relations (binary, 3-, 4-, etc.)\n",
    "\n",
    "> the universal closure of the corresponding instance of the Induction Schema is an axiom.\n",
    "\n",
    "such treatment is consistent with the way how induction is used in standard math for proving relations. Check pp. 59-60 \"Induction and relations\". Basically, to prove that a relation for all $x,y$ holds, we induce on $x$ for any arbitrary $y$. \n",
    "\n",
    "With this \"induce on one and all others to be arbitrary\" strategy, now it's easy to understand 12.3, such as Proof for (4) in pp. 86. There, \"generalizing\" means using generalization rule (if you prove $\\phi(x)$, then $\\forall x \\phi(x)$).\n",
    "\n",
    "# 12.3 What $I\\Delta_0$ can prove\n",
    "\n",
    "## pp. 87 Thm 12.2 there only needs to be one existential quantifer in the beginning.\n",
    "\n",
    "Notice that it's \"in the beginning\", or \"starting with\" in the Thm.\n",
    "\n",
    "Between (iii) and (iv), the author use that one sentence is logically equivalent, etc. Check my note on relationship between logical equivalence and provable equivalence in the previous chapter (also copid below).\n",
    "\n",
    "> is provably equivalent in ... to ... which is logically equivalent to ... \n",
    "\n",
    "# 12.5 On to $I\\Sigma_1$\n",
    "\n",
    "## pp. 88 Thm 12.3 but we can drag an unbounded existential forward past a bounded universal (leaving behind a bounded existential).\n",
    "\n",
    "basically this theorem says the subtitle. Thm 12.3 is mainly for Thm 12.4\n",
    "\n",
    "check errata. my notes below are for the corrected version.\n",
    "\n",
    "1. Overall, you want to prove $\\forall w \\psi (w)$. This way, by substituting $w$ with $u$, you get $u \\leq u \\rightarrow \\ldots$. the left side is always true, and so right side, which is what we want to prove, holds.\n",
    "2. For basecase (i) or $\\psi(0)$.\n",
    "    1. the left side $0 \\leq u$ is true due to O1 in 11.3 (with $x$ in O1 replaced with arbitrary term; see (1.3.0.7) of [Mathematical Logic and Model Theory](https://doi.org/10.1007/978-1-4471-2176-3)).\n",
    "    2. The right side, given $\\alpha$ is provable, or $(\\forall x \\leq u) \\exists y \\phi(x,y)$, we certainly can also prove $(\\forall x \\leq 0) \\exists y \\phi(x,y)$ as $0 \\leq u$, and there must be a term $t$ so that $(\\forall x \\leq 0)  \\phi(x,t)$ and furthermore $(\\forall x \\leq 0) ( \\exists y  \\leq t)  \\phi(x,y)$. so we can set $v=t$ to have $\\exists v (\\forall x \\leq 0) ( \\exists y  \\leq v)  \\phi(x,y)$. Notice that, here I understand it as standard math proof, as I believe $I\\Sigma_1$ should be able to prove all standard math as long as it doesn't involve induction.\n",
    "3. For induction case (ii), you should take $v=\\max(a,b)$ so that for any $x \\leq Sw$, we can resolve to one of the two assumptions (second one for $Sw$ and first for all other). Again, I understand it in the standard math sense, which I assume should work in this deduction system.\n",
    "\n",
    "\n",
    "## pp. 89 Thm 12.4 a common simpler representation of $\\Sigma_1$ wffs.\n",
    "\n",
    "Again, during the proof, I feel the author uses the (correct?) property that logically equivalent wffs are also provably equivalent.\n",
    "\n",
    "> When we pull it outside a conjunction or disjunction or a bounded existential, this unproblematically takes us to a logically equivalent wff (after relabelling bound variables if necessary to avoid clashes).\n"
   ]
  },
  {
   "cell_type": "markdown",
   "metadata": {},
   "source": [
    "# new concepts\n",
    "\n",
    "\n",
    "## logical equivalence -- a languge interpretation related concept\n",
    "\n",
    "check https://en.wikipedia.org/wiki/Logical_equivalence. Basically this means that two sentences have the same value in each of possible all models (and under any given evaluation of free variables, I guess; check [Mathematical Logic and Model Theory](https://doi.org/10.1007/978-1-4471-2176-3) for what evaluation means).\n",
    "\n",
    "> two statements are [logically] equivalent if they have the same truth value in every model (Mendelson 1979:56)\n",
    "\n",
    "## provable equivalence -- a theory related concept\n",
    "\n",
    "this means that if you can prove one wff, then you can prove another and vice versa.\n",
    "\n",
    "I believe, by the way authors construct the proof for Thm 12.2 in pp. 87, for  provable sentences, logically equivalence implies provable equivalence (given a strong enough deduction system)?\n",
    "\n",
    "> is provably equivalent in ... to ... which is logically equivalent ..."
   ]
  }
 ],
 "metadata": {
  "kernelspec": {
   "display_name": "Python 3",
   "language": "python",
   "name": "python3"
  },
  "language_info": {
   "codemirror_mode": {
    "name": "ipython",
    "version": 3
   },
   "file_extension": ".py",
   "mimetype": "text/x-python",
   "name": "python",
   "nbconvert_exporter": "python",
   "pygments_lexer": "ipython3",
   "version": "3.6.4"
  }
 },
 "nbformat": 4,
 "nbformat_minor": 2
}
