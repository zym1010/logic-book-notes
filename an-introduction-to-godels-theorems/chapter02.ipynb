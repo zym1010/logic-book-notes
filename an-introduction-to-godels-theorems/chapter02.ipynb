{
 "cells": [
  {
   "cell_type": "markdown",
   "metadata": {},
   "source": [
    "# 2.1 Kinds of function\n",
    "\n",
    "in the end of this section, the author is fussy about the difference of $\\mathbb{N}^2$ and $\\mathbb{N},\\mathbb{N}$. I really don't see the point of many-place function if we also the domain of a one-place function to be like $\\mathbb{N}^2$.\n",
    "\n",
    "You may argue that you cannot use a notation with a form similar to $\\mathbb{N}^2$ to represent a two-place function that takes natural number in the first argument and real number in the second, or $\\mathbb{N},\\mathbb{R}$. However, this is just some notational issue. We can devise some neat notation to represent this mixed 2D space in theory."
   ]
  },
  {
   "cell_type": "markdown",
   "metadata": {},
   "source": [
    "# 2.5 An indenumerable set: Cantor’s theorem\n",
    "\n",
    "Proofs like this can be used to prove that all numbers in $(0,1)$ are not enumerable. Notice that some numbers have multiple decimal (or binary here) representations. Check <http://planetmath.org/existenceanduniquenessofdecimalexpansion> and <http://planetmath.org/cantorsdiagonalargument> on how to handle these subtleties."
   ]
  },
  {
   "cell_type": "markdown",
   "metadata": {},
   "source": [
    "# new concepts.\n",
    "\n",
    "## enumerable set\n",
    "\n",
    "This is defined in Section 2.3.\n",
    "\n",
    "a set is enumerable iff you can find a surjective mapping from natural numbers to the set; in other words, every element in the set will appear eventually if you try enough numbers.\n",
    "\n",
    "Notice that this is broader than *effectively* enumerable in Chapter 3."
   ]
  }
 ],
 "metadata": {
  "kernelspec": {
   "display_name": "Python 3",
   "language": "python",
   "name": "python3"
  },
  "language_info": {
   "codemirror_mode": {
    "name": "ipython",
    "version": 3
   },
   "file_extension": ".py",
   "mimetype": "text/x-python",
   "name": "python",
   "nbconvert_exporter": "python",
   "pygments_lexer": "ipython3",
   "version": "3.6.4"
  }
 },
 "nbformat": 4,
 "nbformat_minor": 2
}
