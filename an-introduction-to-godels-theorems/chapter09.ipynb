{
 "cells": [
  {
   "cell_type": "markdown",
   "metadata": {},
   "source": [
    "9.1-9.3 talk about induction in ordinary math, not in formal language."
   ]
  },
  {
   "cell_type": "markdown",
   "metadata": {},
   "source": [
    "# 9.1 The basic principle\n",
    "\n",
    "## pp. 56 no stray numbers for natural numbers.\n",
    "\n",
    "> The arithmetical induction principle is underwritten, then, by the basic structure of the number sequence, and in particular by the absence of 'stray' numbers that you can't get to step-by-step from zero by applying and reapplying the successor function.\n",
    "\n",
    "# 9.2 Another version of the indudction principle\n",
    "\n",
    "They use the term \"course-of-values\" for  \"complete\" or \"strong\" in other places.\n",
    "\n",
    "# 9.4 Rule, schema, or axiom.\n",
    "\n",
    "Notice that rule and schema are first order, while axiom is second. In second order logic, $\\forall$ can range over all subsets of natural numbers. However, we cannot even enumerate them... so in practice, there can be problems."
   ]
  }
 ],
 "metadata": {
  "kernelspec": {
   "display_name": "Python 3",
   "language": "python",
   "name": "python3"
  },
  "language_info": {
   "codemirror_mode": {
    "name": "ipython",
    "version": 3
   },
   "file_extension": ".py",
   "mimetype": "text/x-python",
   "name": "python",
   "nbconvert_exporter": "python",
   "pygments_lexer": "ipython3",
   "version": "3.6.4"
  }
 },
 "nbformat": 4,
 "nbformat_minor": 2
}
