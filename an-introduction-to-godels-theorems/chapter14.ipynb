{
 "cells": [
  {
   "cell_type": "markdown",
   "metadata": {},
   "source": [
    "# 14.1 Introducing the primitive recursive functions\n",
    "\n",
    "## pp. 99 how to get primitive recursive functions\n",
    "\n",
    "> A primitive recursive function is one that can be similarly charac- terized using a chain of definitions by recursion and composition"
   ]
  },
  {
   "cell_type": "markdown",
   "metadata": {},
   "source": [
    "# 14.2 Defining the p.r. functions more carefully\n",
    "\n",
    "Check https://en.wikipedia.org/wiki/Primitive_recursive_function for more correct definitions. In particular, (c) is wrong here.\n",
    "\n",
    "## pp. 100 (b) some details on recursion.\n",
    "\n",
    "> so for a multi place thing you need to first define recursion for arguments in the front, and then in the back (you can always shift position of arguments I guess, by using k-place identify functions).\n",
    "\n",
    "## pp. 100-101 (c) it's wrong.\n",
    "\n",
    "> But one standard way is to define what we might call one-at-a-time composition\n",
    "\n",
    "I don't think you can do one-at-a-time. Instead, you need to do everything at the same time. Check the Wikipedia's definition. With this possibly wrong definition, I don’t see how you can define f(x,y) out of g(y,x). With the definition from wikipedia, two projection functions will do."
   ]
  },
  {
   "cell_type": "markdown",
   "metadata": {},
   "source": [
    "# 14.3 An aside about extensionality\n",
    "\n",
    "## pp. 102 extensionality is all we care about.\n",
    "\n",
    "> In a word, then, we are construing talk of functions extensionally. Of course, one and the same function can be presented in different ways, e.g. in ways that reflect different rules for calculating it.\n",
    "\n",
    "getting the extension right is what it means to correctly express a function, regardless of ways of computing it.\n",
    "\n",
    ">  that fermat is in fact p.r., for it is none other than the trivially p.r. function Z(n) = 0.\n",
    "\n",
    "This is a very good example about that extensionality is everything we care about.\n",
    "\n",
    "\n",
    "> The key observation is this: primitive recursiveness is a feature of a function itself, irrespective of how it happens to be presented to us."
   ]
  },
  {
   "cell_type": "markdown",
   "metadata": {},
   "source": [
    "# 14.4 The p.r. functions are computable.\n",
    "\n",
    "Basically, everything that involves NO open-ended search (or `while` loops in programming) is p.r.\n",
    "\n",
    "## pp. 105 cheap way to check a function is p.r.\n",
    "\n",
    "> This gives us a quick-and-dirty (but reliable!) way of convincing ourselves that a new function is p.r.: sketch out a routine for computing it and check that it can all be done with a succession of (possibly nested) 'for' loops which only invoke already known p.r. functions; then the new function will be primitive recursive.\n",
    "\n",
    "\n",
    "I think the for loop construct implements the recursion parts of a p.r. function, and the composition parts are implemented by the sequence of statements in (imperative) programming."
   ]
  },
  {
   "cell_type": "markdown",
   "metadata": {},
   "source": [
    "# 14.5 Not all computable numerical functions are p.r.\n",
    "\n",
    "## pp. 105\n",
    "\n",
    "> However, back in Section 3.1 we allowed procedures to count as computational even when they don't have nice upper bounds on the number of steps involved. In other words, we allowed computations to involve open-ended searches,\n",
    "\n",
    "## pp. 106 all (total) functions are not enumerable, while p.r. functions are.\n",
    "\n",
    "while you can construct a list of p.r. functions, as shown in the proof of Thm. 14.2, total functions (things that will stop for any input) are not enumerable. Otherwise, we will be able to use this diagonalization trick to construct something not on the list."
   ]
  },
  {
   "cell_type": "markdown",
   "metadata": {},
   "source": [
    "# 14.7 Building more p.r. functions and relations\n",
    "\n",
    "## pp. 108 Thm 14.3 many constructs and functions are p.r.\n",
    "\n",
    "In particular, check (E), which is basically \"if\" construct in programming.\n",
    "\n",
    "### pp. 110 proof for (d), but with maximization.\n",
    "\n",
    "how about maximization? I think by using n-x to repalce x, and we will be good.\n",
    "\n"
   ]
  },
  {
   "cell_type": "markdown",
   "metadata": {},
   "source": [
    "# 14.8 Further examples\n",
    "\n",
    "## pp. 111 more examples.\n",
    "\n",
    "for 5, $exf(n,i)$ gives how many $pi_i$ are there in the factorization of $n$.\n",
    "\n",
    "## pp. 112 we don't need to care about these details.\n",
    "\n",
    "> For having shown that these kinds of results can be proved, you can now cheerfully forget the tricksy little details of how to do it."
   ]
  }
 ],
 "metadata": {
  "kernelspec": {
   "display_name": "Python 3",
   "language": "python",
   "name": "python3"
  },
  "language_info": {
   "codemirror_mode": {
    "name": "ipython",
    "version": 3
   },
   "file_extension": ".py",
   "mimetype": "text/x-python",
   "name": "python",
   "nbconvert_exporter": "python",
   "pygments_lexer": "ipython3",
   "version": "3.6.4"
  }
 },
 "nbformat": 4,
 "nbformat_minor": 2
}
