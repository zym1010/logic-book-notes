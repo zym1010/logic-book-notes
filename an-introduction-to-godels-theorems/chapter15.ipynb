{
 "cells": [
  {
   "cell_type": "markdown",
   "metadata": {},
   "source": [
    "Key thing is to express recursion.\n",
    "\n",
    "pp. 114 gives an example on how to express the factorial function.\n",
    "\n",
    "> There is a sequence of numbers $k_0,k_1,\\ldots,k_x$ such that: $k_0 = 1$, and if $u < x$ then $k_{S_u} = k_u × Su$, and $k_x = y$.\n",
    "\n",
    "however, we need to using some finite thing to express a sequence. This sequence can be expressed finitely using $\\beta$-functions.\n",
    "\n",
    "One simple $\\beta$-function is given in pp. 114, using prime numbers, or\n",
    "\n",
    "> $c= \\pi_0^{k_0}\\cdot \\ldots$\n",
    "\n",
    "However, this is not doable in $L_A$. Gödel came up with a three-place $\\beta$-function that solves the problem, in pp. 115.\n",
    "\n",
    "> $\\beta(c,d,i) =_{\\textrm{def}}$ the remainder left when $c$ is divided by $d(i+1)+1$.\n",
    "\n",
    "In addition, we have Thm 15.3\n",
    "\n",
    "> Theorem 15.3 Every p.r. property and relation can be expressed by a $\\Sigma_1$ wff."
   ]
  }
 ],
 "metadata": {
  "kernelspec": {
   "display_name": "Python 3",
   "language": "python",
   "name": "python3"
  },
  "language_info": {
   "codemirror_mode": {
    "name": "ipython",
    "version": 3
   },
   "file_extension": ".py",
   "mimetype": "text/x-python",
   "name": "python",
   "nbconvert_exporter": "python",
   "pygments_lexer": "ipython3",
   "version": "3.6.4"
  }
 },
 "nbformat": 4,
 "nbformat_minor": 2
}
