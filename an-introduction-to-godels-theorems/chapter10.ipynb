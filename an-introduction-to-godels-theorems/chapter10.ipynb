{
 "cells": [
  {
   "cell_type": "markdown",
   "metadata": {},
   "source": [
    "# 10.1 BA, Baby Arithmetic\n",
    "\n",
    "a note on (b): there, \"standard deductive apparatus\" just mean some logical axioms. Here they have $\\tau = \\tau$ (identity) for every term $\\tau$, etc.\n",
    "\n",
    "# 10.5 Q is not complete\n",
    "\n",
    "In the proof of 10.8, we can see how powerful a change of interpretation is for proof.\n",
    "\n",
    "Note that, this proof is based on a modification of the intended standard model of arithmetic. However, this standard model of arithmetic may not be a model at all!\n",
    "\n",
    "If we can know that our standard interpretation is a model, then PA is certainly consistent as it has a model.\n",
    "\n",
    "See pp. 227, 30.6\n",
    "\n",
    "> And in virtue of this shared grasp of these intuitive conceptions, it seems that we have a shared understanding of the idea of the standard, intended, interpretation for first-order PA. (We hope and believe, of course, that this standard interpretation is a model!)\n",
    "\n",
    "Also see <https://mathoverflow.net/a/66932>\n",
    "\n",
    "> The conclusion is that we don't know that $\\mathbb{N}$ is a model of PA;"
   ]
  }
 ],
 "metadata": {
  "kernelspec": {
   "display_name": "Python 3",
   "language": "python",
   "name": "python3"
  },
  "language_info": {
   "codemirror_mode": {
    "name": "ipython",
    "version": 3
   },
   "file_extension": ".py",
   "mimetype": "text/x-python",
   "name": "python",
   "nbconvert_exporter": "python",
   "pygments_lexer": "ipython3",
   "version": "3.6.4"
  }
 },
 "nbformat": 4,
 "nbformat_minor": 2
}
