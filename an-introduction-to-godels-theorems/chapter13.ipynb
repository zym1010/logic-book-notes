{
 "cells": [
  {
   "cell_type": "markdown",
   "metadata": {},
   "source": [
    "# 13.1 Hoping for completeness.\n",
    "\n",
    "## pp. 93 many subsets of PA are sound and complete.\n",
    "\n",
    "> So the situation is as follows. (i) There is a complete formalized theory BA whose theorems are exactly the quantifier-free truths expressible using successor, addition and multiplication (and the connectives). (ii) There is another complete formalized theory (equivalent to PA minus multiplication) whose theorems are exactly the first-order truths expressible using just successor and addition. Against this background, the Gödelian result that adding multiplication in order to get full PA gives us a theory which is incomplete and incompletable (if consistent) comes as a rather nasty surprise. It certainly wasn\\t obviously predictable that multiplication would make all the difference. Yet it does.\n",
    "\n",
    "This also implies that, for arithmetic with only addition or multiplication (check footnote), we know they are models.\n",
    "\n",
    "## pp. 94 incompleteness is for sure.\n",
    "\n",
    "second-order won't help. Overall, I think Gödel claims that any (properly axiomatized, consistent) theory containing PA is incompletable. But I wonder what if we indendepently build something that is not based on PA.\n",
    "\n",
    "> And since no effectively axiomatized consistent theory which contains PA can be complete, a (properly axiomatized, consistent) second-order **extension** of it will be incomplete too.\n",
    "\n",
    "## 13.4 is PA consistent?\n",
    "\n",
    "> Intuitions of mathematical truth can indeed be sadly mistaken."
   ]
  }
 ],
 "metadata": {
  "kernelspec": {
   "display_name": "Python 3",
   "language": "python",
   "name": "python3"
  },
  "language_info": {
   "codemirror_mode": {
    "name": "ipython",
    "version": 3
   },
   "file_extension": ".py",
   "mimetype": "text/x-python",
   "name": "python",
   "nbconvert_exporter": "python",
   "pygments_lexer": "ipython3",
   "version": "3.6.4"
  }
 },
 "nbformat": 4,
 "nbformat_minor": 2
}
