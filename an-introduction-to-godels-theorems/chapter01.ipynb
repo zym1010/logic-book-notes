{
 "cells": [
  {
   "cell_type": "markdown",
   "metadata": {},
   "source": [
    "this chapter gives an overview of the book."
   ]
  },
  {
   "cell_type": "markdown",
   "metadata": {},
   "source": [
    "# 1.1 Basic arithmetic\n",
    "\n",
    "outline.\n",
    "\n",
    "1. we know that the structure of natural numbers is fixed, and all statements in it are either true or false.\n",
    "   > Still, it is extremely plausible to suppose that, whether the answers are readily available to us or not, questions posed in the language of basic arithmetic do have entirely determinate answers.\n",
    "2. one way to make these statements' answers concrete, is to start from some axioms and then deduce every statement from them.\n",
    "   > but the proposal is that such a proof is always possible, since the axioms contain enough information to enable the truth-value of any basic arithmetical proposition to be deductively extracted by deploying familiar step-by-step logical rules of inference."
   ]
  },
  {
   "cell_type": "markdown",
   "metadata": {},
   "source": [
    "# 1.2 Incompleteness\n",
    "\n",
    "1. Gödel comes up with some mathematical statement $G_T$ about natural numbers that can be proved to be not deducible from axioms. For some discussons on how we can recognize that $G_T$ must be true, see Section 23.2: overall, there are some perfectly reasonable arguments for $G_T$ to be true and yet they cannot be formalized in (first-order) $T$. I don't understand it right now. Should read more to understand this subtlety better.\n",
    "    > (i) we can show that $G_T$ can't be derived in $T$, and yet (ii) we can recognize that $G_T$ must be true. ... the truths of basic arithmetic must elude our attempts to pin them down by giving a nice set of fundamental assumptions from which we can deduce everything else.\n",
    "2. Overall, $G_T$ must be true. This argument depends on the assumptions that 1) $T$ is sound, so it can't prove falsehood, 2) $G_T$ is true (using some reasonable arguments not captured by $T$) if and only if it cannot be proved by $T$.\n",
    "    > Suppose then that $T$ is sound. If $T$ were to prove $G_T$ , $G_T$ would be false, and $T$ would then prove a falsehood, which it can't do. Hence, if $T$ is sound, $G_T$ is unprovable in $T$. Which makes $G_T$ true. Hence $\\neg G_T$ is false. And so that too can’t be proved by $T$, because $T$ only proves truths. In sum, still assuming $T$ is sound, neither $G_T$ nor its negation will be provable in $T$. Therefore $T$ can't be negation-complete.\n",
    "3. We don't need $T$ to be sound for our main conclusions. Conclusion (1) that $G_T$ cannot be proved only needs consistency of $T$, and conclusion (2) that $\\neg G_T$ cannot be proved needs something stronger.\n",
    "    > $T$'s mere consistency is enough to guarantee that a suitably constructed $G_T$ is true-but-unprovable-in-$T$. And we only need a little more to show that $\\neg G_T$ is not provable either.\n",
    "4. **Incompletable**. Adding (nicely) more axioms won't help. Here \"nicely\" means that we cannot \"cheat\" by, say, adding ALL statements of natural numbers to be axioms. Roughly speaking, we need to have a \"nice\" axiom system that we can reason about using finite or countable approaches.\n",
    "    > By contrast, what gives Gödel's First Theorem its real bite is that it shows that any nicely axiomatized and sound theory of basic arithmetic must remain incomplete, however many new true axioms we give it."
   ]
  },
  {
   "cell_type": "markdown",
   "metadata": {},
   "source": [
    "# 1.3 More incompleteness\n",
    "\n",
    "because many math theories are rich enough to define some basic arithmetic, they are all incomplete.\n",
    "\n",
    "> The point evidently generalizes: any sound axiomatized mathematical theory $T$ that can define (an analogue of) the natural-number sequence and replicate enough of the basic arithmetic of addition and multiplication must be incomplete and incompletable."
   ]
  },
  {
   "cell_type": "markdown",
   "metadata": {},
   "source": [
    "# 1.4 Some implications?\n",
    "\n",
    "Seems that we can understand some math truth using a way not definable in formal logic. We need to read more to understand this. Check Section 23.2.\n",
    "\n",
    "> But then, how do we manage somehow to latch on to the nature of the unending number sequence and the operations of addition and multiplication in a way that outstrips whatever rules and principles can be captured in definitions?"
   ]
  },
  {
   "cell_type": "markdown",
   "metadata": {},
   "source": [
    "# 1.5 The unprovability of consistency\n",
    "\n",
    "this is about the second incompleteness theorem. We cannot prove a theory $T$'s own consistency.\n",
    "\n",
    "1. there should be a numerical proposition about natural numbers $Con_T \\rightarrow G_T$ that is true if and only if \"if $T$ is consistent, then $G_T$ can be proved in $T$\". Here \"(half of)\" should mean that we only talk about the unprovability of $G_T$, but not $\\neg G_T$.\n",
    "    > So this means that (half of) the conclusion of Gödel's official First Theorem, namely the claim that if $T$ is consistent then $G_T$ is unprovable, can itself be encoded by a numerical proposition, namely $Con_T \\rightarrow G_T$\n",
    "2. this proposition can be proved by $T$.\n",
    "    > So, again on modest assumptions, we can derive $Con_T \\rightarrow G_T$ inside $T$.\n",
    "    \n",
    "    * Notice that in this paragraph, $Con_T \\rightarrow G_T$ means two things: 1) the statement about $T$ \"if $T$ is consistent, then $G_T$ can be proved in $T$\"; 2) the corresponding numerical proposition. Because somehow we can show these two interpretations to be equivalent (not sure only using $T$ or using some additional \"reasonable math arguments\"), this ambiguity (meaning two things) does not really matter.\n",
    "3. First theorem combined with derivability of $Con_T \\rightarrow G_T$ inside $T$ shows the second theorem.\n",
    "    > But the official First Theorem has already shown that if $T$ is consistent we can't derive $G_T$ in $T$. So it immediately follows that if $T$ is consistent it can't prove $Con_T$ . And that is Gödel's Second Incompleteness Theorem. Roughly interpreted: nice theories that include enough basic arithmetic can't prove their own consistency.\n",
    "    \n",
    "    * Check footnote 7 (\"this is rough...\") about alternative ways of showing consistency and why it may not work."
   ]
  },
  {
   "cell_type": "markdown",
   "metadata": {},
   "source": [
    "# 1.6 More implications?\n",
    "\n",
    "Gödel's theorems destroy Hilbert's Programme, which hopes to argue about the safety of richer mathematics using more primitive ones.\n",
    "\n",
    "> And that is a very interesting result, for it seems to sabotage what is called Hilbert’s Programme, which is precisely the project of trying to defend the wilder reaches of infinitistic mathematics by giving consistency proofs which use only 'safe' methods. "
   ]
  },
  {
   "cell_type": "markdown",
   "metadata": {},
   "source": [
    "# new concepts.\n",
    "\n",
    "## negation complete\n",
    "\n",
    "> Logicians say that a theory $T$ is negation-complete if, for every sentence $\\varphi$ in the language of the theory, either $\\varphi$ or $\\neg\\varphi$ can be derived in $T$'s proof system."
   ]
  }
 ],
 "metadata": {
  "kernelspec": {
   "display_name": "Python 3",
   "language": "python",
   "name": "python3"
  },
  "language_info": {
   "codemirror_mode": {
    "name": "ipython",
    "version": 3
   },
   "file_extension": ".py",
   "mimetype": "text/x-python",
   "name": "python",
   "nbconvert_exporter": "python",
   "pygments_lexer": "ipython3",
   "version": "3.6.4"
  }
 },
 "nbformat": 4,
 "nbformat_minor": 2
}
