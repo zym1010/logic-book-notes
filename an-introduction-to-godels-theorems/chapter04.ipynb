{
 "cells": [
  {
   "cell_type": "markdown",
   "metadata": {},
   "source": [
    "# 4.2 formalized languages\n",
    "\n",
    "## pp. 29 semantics assign true/false uniquely to each sentence, but we don't know whether it's true or false.\n",
    "\n",
    "> effectively generating **unique readings** for sentences. Careful, though! The claim is only that the semantics effectively tells us the conditions under which a given sentence is true; it doesn’t at all follow that there is an effective way of telling whether those conditions actually hold and whether the sentence really is true.\n",
    "\n",
    "I think here \"effectively\" means that if we know the truth values of conditions that are associated with a sentence's truth value, then we can effectively determine the truth value of that sentence. How we get the truth values of those associated conditions is another matter. I think there should be some technical specifications on how we specify those conditions. For example, \"$s$ is true iff $s$ is true\" definitely is not good; but I'm not sure how to use formal language to remove them.\n",
    "\n",
    "\n",
    "# 4.3 formalized theories\n",
    "\n",
    "## pp. 30 for a logic with certain strength, all different deduction systems are equivalent.\n",
    "\n",
    "> The differences between various equivalent systems of proof presentation --- e.g. old-style linear proof systems which use logical axioms vs. different styles of natural deduction proofs vs. tableau (or 'tree') proofs – don't essentially matter.\n",
    "\n",
    "# 4.4 More definitions\n",
    "\n",
    "## pp. 33 semantically complete and negation complete.\n",
    "\n",
    "* semantic completeness is Godel’s completeness: unprovable means counterexample, or (equivalently) true-in-every-model means provable.\n",
    "\n",
    "\n",
    "### footnote 11\n",
    "\n",
    "> Likewise a semantically complete deductive system is one such that, if you add a new **logical axiom** that can't already be derived\n",
    "\n",
    "note that’s logical axiom. Not axiom. If it's axiom, then clearly original models to the theory won't be models again (theory and models match on those non-logical axioms, or $\\Sigma$).\n",
    "\n",
    "# 4.5 The effective enumerability of theorems\n",
    "\n",
    "## pp. 34 tree systems\n",
    "\n",
    "> If T-proofs are more complex arrays of wffs --- as in tree systems --- then the construction of an effective enumeration of the arrays needs to be correspondingly more complex; but the core proof-idea remains the same.\n",
    "\n",
    "This tree system appears in natural deduction systems, not Hilbert deduction systems.\n",
    "\n",
    "## pp. 35 a theory with enumerable theorems are not always decidable.\n",
    "\n",
    "> It is one thing to have a mechanical method which is bound to generate any theorem eventually; it is quite another thing to have a mechanical method which, given an arbitrary wff $\\phi$, can determine -- without going on forever -- whether $\\phi$ will ever turn up on the list of theorems.\n",
    "\n",
    "\n",
    "# 4.6 negation-complete theories are decidable\n",
    "\n",
    "I think this theorem is conceptually related to Thm 3.4 (set and its complement being enumerable implies decidable)."
   ]
  },
  {
   "cell_type": "markdown",
   "metadata": {},
   "source": [
    "# new concepts.\n",
    "\n",
    "## (interpreted) effectively axiomatized theory\n",
    "\n",
    "Given in 4.3.\n",
    "\n",
    "Gödel theorems apply to such nice theories. Basically, we can always verify the validity of a proof given in such theory using an algorithm running on a computer; we must be presented with a proof for some sentence, but it's not the case that we can algorithmically find a proof for a sentence.\n",
    "\n",
    "## effectively decidable, decides, correctly decides, negation-complete, etc.\n",
    "\n",
    "Given in 4.4.\n",
    "\n",
    "\n",
    "### notes on negation-complete and inconsistent\n",
    "\n",
    "5 (negation complete) doesn't contradict with 6 (inconsistent). Inconsistent theory is always negation complete, as you can prove everything.\n",
    "\n",
    "Also notice that here consistent is undefined, whereas inconsistent is defined.\n",
    "\n",
    "But based on https://en.wikipedia.org/wiki/Consistency, I think consistency simply mean for $\\phi$, we don't get both $\\phi$ and $\\neg \\phi$ as provable.\n",
    "\n",
    "### notes on wff vs. wfs (well formed sentences)\n",
    "\n",
    "> so wffs with free variables derived as we go along through a proof don't count. This decision is for convenience as much as anything, and nothing deep hangs on it.\n",
    "\n",
    "check that model theory book [Mathematical Logic and Model Theory](https://doi.org/10.1007/978-1-4471-2176-3). there, in that proof system (a Hilbert style with MP and generalization rule), wff and its universal closure are the same; there, sticking to sentences is just for convenience.  (Lemma 1.3.1)"
   ]
  }
 ],
 "metadata": {
  "kernelspec": {
   "display_name": "Python 3",
   "language": "python",
   "name": "python3"
  },
  "language_info": {
   "codemirror_mode": {
    "name": "ipython",
    "version": 3
   },
   "file_extension": ".py",
   "mimetype": "text/x-python",
   "name": "python",
   "nbconvert_exporter": "python",
   "pygments_lexer": "ipython3",
   "version": "3.6.4"
  }
 },
 "nbformat": 4,
 "nbformat_minor": 2
}
