{
 "cells": [
  {
   "cell_type": "markdown",
   "metadata": {},
   "source": [
    "# Three flavors of capturing a function\n",
    "\n",
    "16.1-16.3 define three flavors of capturing, called capturing, weak capturing, and strong capturing.\n",
    "\n",
    "Each of them have two conditions. The first is always the same.\n",
    "\n",
    "> For any $m,n$, if $f(m)=n$, then $T \\vdash \\phi(\\overline{m},\\overline{n})$\n",
    "\n",
    "The second condition varies.\n",
    "\n",
    "* In capturing, we have $T \\vdash \\exists!y\\phi(\\overline{m}, y)$, or exactly one $y$ to satisfy $\\phi(\\overline{m}, y)$.\n",
    "* In weak capturing, we have if $f(m)\\ne n$, then $T \\neg\\vdash \\phi(\\overline{m},\\overline{n})$. In other words, weak capturing does not establish the uniqueness of $y$ *explicitly*, compared to vanilla capturing.\n",
    "* In strong capturing, we have $T \\vdash \\forall x \\exists!y\\phi(x, y)$. So compared to vanilla capturing, we know *explicitly* that for every instance of $m$, we can prove $\\phi(\\overline{m}, y)$.\n",
    "\n",
    "\n",
    "## relationship of the three.\n",
    "\n",
    "Clearly, strong > weak > vanilla in terms of power. \">\" means satisfactino of left implies that of right.\n",
    "\n",
    "Thms 16.2 and 16.3 talk about the relationship between three capturings, and variations on $\\phi$, or $\\tilde{\\phi}, \\vec{\\phi}$. So having one type of capturing on one function using $\\phi$ implies another type (stronger; for Thm 16.2, this is vanilla, for Thm 16.3, this is strong) of capturing on the function using some variation of $\\phi$.\n",
    "\n",
    "While these theorems seem to suggest that all three capturings are the same in some sense (pp. 123), under *standard* interpretations, as $\\phi$, or $\\tilde{\\phi}, \\vec{\\phi}$ actually *express* the same function (I mean they have the same truth values for every possible combination of natural numbers $m$, $n$) under standard interpretation (which is the interpretation under which capturing is defined), assuming  $\\phi$ *expresses* a function (which it may not, as *capturing* and *expression* are not always related).\n",
    "\n",
    "For example, for $\\vec{\\phi}$ (defined in pp. 123), the second part ($y=0 \\wedge \\neg\\exists!y\\phi(x, y)$) will never evaluate to be true in the standard interpretation, $\\neg\\exists!y\\phi(x, y)$ means there is no $y$ with $f(x)=y$, which is impossible given that $f(x)$ is defined. So the second part is always false. For the first part, if $\\phi(x,y)$ indeed expresses some function, then $\\exists!u\\phi(x, u)$ (second half of the first part) must be true, so  $\\vec{\\phi}$ and $\\phi$ always take the same truth-value for any combination of $x,y$.\n",
    "\n",
    "> In sum, once we are dealing with arithmetics as strong as Q, if a function is weakly capturable at all it is also capturable in both stronger senses.\n",
    "\n",
    "I think these three wffs might *express* different functions under *non-standard* interpretations, when we fill in $x,y$ with some non-standard numbers.\n",
    "\n",
    "## misc.\n",
    "\n",
    "### pp. 122 errata\n",
    "\n",
    "2 lines above Thm 16.3, $T \\vdash \\exists! y\\phi(\\overline{m}, x)$ should be $T \\vdash \\exists! y\\phi(\\overline{m}, y)$\n",
    "\n",
    "### pp. 122 some comment about strongly captured\n",
    "\n",
    "> Then, if $f$ is strongly captured in $T$ , either $T$ already has a function symbol $\\mathbf{f}$ for $f$, (so that if $f(m) = n$, then $T \\vdash \\mathbf{f}(\\overline{m}) = \\overline{n}$ and the uniqueness condition is trivially satisfied), or we can conservatively extend $T$ so that it has one.\n",
    "\n",
    "I think the purpose of this part is not that clear, and some words are ambiguous (for example, what is \"the uniqueness condition\"). Overall, I feel they say that, if there is strong capturing of $f$, then it's OK for us to add a special symbol $\\mathbf{f}$ to the theory for notational convenience without changing its power.\n",
    "\n",
    "Here, \"without changing its power\" is defined as follows.\n",
    "\n",
    "> shouldn't make any difference to which wffs of the original, unextended, language $L$ are provable.\n",
    "\n",
    "When there is strong capturing, adding that symbol $\\mathbf{f}$ won't change the theory's power, due to the 2nd condition of strong capturing.\n",
    "\n",
    "> the condition for it to be harmlessly conservative to add the function symbol 'f' with its definitional axiom is that T can prove $\\forall x \\exists!y\\phi(x, y)$. "
   ]
  }
 ],
 "metadata": {
  "kernelspec": {
   "display_name": "Python 3",
   "language": "python",
   "name": "python3"
  },
  "language_info": {
   "codemirror_mode": {
    "name": "ipython",
    "version": 3
   },
   "file_extension": ".py",
   "mimetype": "text/x-python",
   "name": "python",
   "nbconvert_exporter": "python",
   "pygments_lexer": "ipython3",
   "version": "3.6.4"
  }
 },
 "nbformat": 4,
 "nbformat_minor": 2
}
