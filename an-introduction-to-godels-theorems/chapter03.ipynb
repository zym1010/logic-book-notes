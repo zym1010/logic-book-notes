{
 "cells": [
  {
   "cell_type": "markdown",
   "metadata": {},
   "source": [
    "# 3.4 Another way of defining e.e. sets of numbers\n",
    "\n",
    "## Thm 3.6 all algorithms are effectively enumerable, and thus set of effectively enumerable sets are (effectively) enumerable.\n",
    "\n",
    "Thm 3.6 does not address whether this set of e.e. sets are effectively enumerable or enumerable but not effectively; this is asked in footnote 10. I believe the answer is yes, as we can list all programs in order (alphabetically).\n",
    "\n",
    "## Thm 3.7 there are sets that are not effectively enumerable, and thus not (effectively) decidable.\n",
    "\n",
    "# 3.5 The Basic Theorem about e.e. sets\n",
    "\n",
    "## Thm 3.8 a e.e. set with its complement not e.e.\n",
    "\n",
    "In the first part of this proof, we need to argue that $\\overline{K}$ is not empty. So some care has to be taken to make sure $K$ is not the whole $\\mathbb{N}$. Well $K$ can't be whole N, since among $W_e$, there's empty set, which has some index; and that index must not be in $K$.\n",
    "\n",
    "## Thm 3.9 there are sets that are e.e. but not decidable."
   ]
  },
  {
   "cell_type": "markdown",
   "metadata": {},
   "source": [
    "# new concepts.\n",
    "\n",
    "## effectively computable (numerical) functions\n",
    "\n",
    "Given in 3.1.\n",
    "\n",
    "Basically what's computable by Turing machine (or any proposed equivalent definition of computability).\n",
    "\n",
    "> all the detailed definitions of algorithmic computability by idealized computers with different architectures that have ever been seriously proposed turn out to be equivalent.\n",
    "\n",
    "pp. 17 footnote 2 seems to suggest that Turing's thesis and Church's thesis are different. By checking Chapter 44, seems that the content of them are equivalent, and differences are pretty technical; probably this is why people typically call them together as Church--Turing thesis.\n",
    "\n",
    "Here they mainly talk about computability of numerical functions; for unnumerical things, we always represent them in some numerical fashion (otherwise, it's probably also difficult to give exact definition of unnumerical functions).\n",
    "\n",
    "## (effectively) decidable property/relation/set\n",
    "\n",
    "Given in 3.2.\n",
    "\n",
    "decidable is binary function.\n",
    "\n",
    "sometimes \"effectively\" is dropped, but two terms are the same.\n",
    "\n",
    "you can define \"decidable\" property/relation/set in terms of effective computability of its characteristic function.\n",
    "\n",
    "> A numerical property or relation is effectively decidable iff its char- acteristic function is effectively computable.\n",
    "\n",
    "\n",
    "pp. 19 footnote 6 gives explanation of \"extension\". \"extension of X\" is the set that has attribute X.\n",
    "\n",
    "> Recall: the extension of a property is the set of things that have the property.\n",
    "\n",
    "## effectively enumerable set\n",
    "\n",
    "Given in 3.3.\n",
    "\n",
    "\n",
    "decidable implies effectively enumerable (Thm 3.3)\n",
    "\n",
    "effectively enumerable of itself and its complement implies decidable. (Thm 3.4)\n",
    "\n",
    "decidable and its complement’s decidable are equivalent (Thm 3.2)\n",
    "\n",
    "\n",
    "Note on proof of Thm 3.3: you may consider that you don't know the exact value of $s$; it doesn't matter, as long as you can have that function for deciding $\\Sigma$ in your hand. You can always start from 0 and try 0,1,2,3,... one by one, feed them into that function until that function returns YES.\n",
    "\n",
    "Also check my note on proof of Thm 3.5. I think my above note on Thm 3.3 is probably unnecessary, as the Thm 3.3 tries to prove the existence  of $s$ and that of the algorithm, while I want to show how to explicitly construct that algorithm.\n",
    "\n",
    "\n",
    "Another (more interesting) definition of effectively enumerable is given in 3.4\n",
    "\n",
    "> Theorem 3.5 $W$ is an effectively enumerable set of numbers if and only if it is the numerical domain of some algorithm $\\Pi$.\n",
    "\n",
    "Note: For the proof to work, I think you should assume that for $W$, you know 1) it's empty or 2) it has at least one element $o$ in it. Well... one of these two must hold... the only problem is that, if you don't know which case it is and what $o$ is, then you cannot really construct that algorithm, which still exists."
   ]
  }
 ],
 "metadata": {
  "kernelspec": {
   "display_name": "Python 3",
   "language": "python",
   "name": "python3"
  },
  "language_info": {
   "codemirror_mode": {
    "name": "ipython",
    "version": 3
   },
   "file_extension": ".py",
   "mimetype": "text/x-python",
   "name": "python",
   "nbconvert_exporter": "python",
   "pygments_lexer": "ipython3",
   "version": "3.6.4"
  }
 },
 "nbformat": 4,
 "nbformat_minor": 2
}
